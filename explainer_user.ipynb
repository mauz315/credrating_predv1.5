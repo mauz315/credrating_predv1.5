{
 "cells": [
  {
   "cell_type": "markdown",
   "metadata": {},
   "source": [
    "# Explicación de resultados de predicción"
   ]
  },
  {
   "cell_type": "markdown",
   "metadata": {},
   "source": [
    "## 1. Importando librerías y rutas de archivos"
   ]
  },
  {
   "cell_type": "code",
   "execution_count": 6,
   "metadata": {
    "scrolled": false
   },
   "outputs": [],
   "source": [
    "import joblib\n",
    "import pandas as pd\n",
    "from lime_explainer import explain_tree, explaining"
   ]
  },
  {
   "cell_type": "code",
   "execution_count": 7,
   "metadata": {
    "scrolled": false
   },
   "outputs": [],
   "source": [
    "model_file = 'model/actual_rf_em.sav' # Modelo.\n",
    "model_pure_file = 'model/rating_random_forest_pure.sav' # Modelo.\n",
    "train_set = 'explainer/X_train_actual.sav'\n",
    "sov_encoder_file = 'model/sov_lab_encoder_em.sav' # Encoder de rating soberano."
   ]
  },
  {
   "cell_type": "markdown",
   "metadata": {},
   "source": [
    "Archivo utilizado para la predicción:"
   ]
  },
  {
   "cell_type": "code",
   "execution_count": 8,
   "metadata": {
    "scrolled": false
   },
   "outputs": [],
   "source": [
    "rating_pred = 'rating_pred_latam.csv'"
   ]
  },
  {
   "cell_type": "markdown",
   "metadata": {},
   "source": [
    "## 2. Cargando modelos y encoders para variables"
   ]
  },
  {
   "cell_type": "code",
   "execution_count": 9,
   "metadata": {
    "scrolled": false
   },
   "outputs": [],
   "source": [
    "rf = joblib.load(model_file)\n",
    "X_train = joblib.load(train_set)\n",
    "sov_lab_encoder = joblib.load(sov_encoder_file)\n",
    "data = pd.read_csv('input/' + rating_pred, sep=',', index_col = [\"Indicadores\"], encoding = \"latin1\")\n",
    "feat_key = pd.read_csv('data/features.csv', sep=',', index_col = [\"Feature\"], encoding = \"latin1\")\n",
    "le = pd.read_csv('data/lab_encoder.csv', sep=',', index_col = 0, encoding = \"latin1\")"
   ]
  },
  {
   "cell_type": "markdown",
   "metadata": {},
   "source": [
    "## 3. Seleccionando trimestres y corriendo explicación"
   ]
  },
  {
   "cell_type": "code",
   "execution_count": 10,
   "metadata": {
    "scrolled": false
   },
   "outputs": [
    {
     "data": {
      "application/vnd.jupyter.widget-view+json": {
       "model_id": "da64ac060bcb4af99a583374ae7ae111",
       "version_major": 2,
       "version_minor": 0
      },
      "text/plain": [
       "VBox(children=(Dropdown(description='Periodo 1:', options=('2T17', '3T17', '4T17', '1T18', '2T18', '3T18', '4T…"
      ]
     },
     "metadata": {},
     "output_type": "display_data"
    },
    {
     "data": {
      "application/vnd.jupyter.widget-view+json": {
       "model_id": "70821de9063d4604a1106b6c3a9788b1",
       "version_major": 2,
       "version_minor": 0
      },
      "text/plain": [
       "Button(description='Explicar trimestres escogidos', style=ButtonStyle())"
      ]
     },
     "metadata": {},
     "output_type": "display_data"
    },
    {
     "data": {
      "application/vnd.jupyter.widget-view+json": {
       "model_id": "fb02e8dec6cf4eecad137a2de65104f0",
       "version_major": 2,
       "version_minor": 0
      },
      "text/plain": [
       "Output()"
      ]
     },
     "metadata": {},
     "output_type": "display_data"
    }
   ],
   "source": [
    "explaining(data, rf, X_train, sov_lab_encoder, le, feat_key)"
   ]
  },
  {
   "cell_type": "markdown",
   "metadata": {},
   "source": [
    "## 4. Guía de interpretación de resultados"
   ]
  },
  {
   "attachments": {},
   "cell_type": "markdown",
   "metadata": {},
   "source": [
    "Se muestran las variables explicativas para los dos ratings con mayor probabilidad de ser escogidos por el algoritmo (en este caso, BBB y BB).\n"
   ]
  },
  {
   "cell_type": "markdown",
   "metadata": {},
   "source": [
    "Al escoger cada rating, el algoritmo asume probabilidades entre las variables que confirman este rating (BBB) y las que no (NOT BBB), es la disyuntiva que se presenta en cada nodo del árbol de decisión de la forma p y (1 – p)."
   ]
  },
  {
   "cell_type": "markdown",
   "metadata": {},
   "source": [
    "![title](explainer/example.png)"
   ]
  },
  {
   "cell_type": "code",
   "execution_count": null,
   "metadata": {},
   "outputs": [],
   "source": []
  }
 ],
 "metadata": {
  "kernelspec": {
   "display_name": "Python 3",
   "language": "python",
   "name": "python3"
  },
  "language_info": {
   "codemirror_mode": {
    "name": "ipython",
    "version": 3
   },
   "file_extension": ".py",
   "mimetype": "text/x-python",
   "name": "python",
   "nbconvert_exporter": "python",
   "pygments_lexer": "ipython3",
   "version": "3.7.4"
  }
 },
 "nbformat": 4,
 "nbformat_minor": 2
}
