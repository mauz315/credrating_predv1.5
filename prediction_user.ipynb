{
 "cells": [
  {
   "cell_type": "markdown",
   "metadata": {},
   "source": [
    "# Predicción de Ratings Corporativos"
   ]
  },
  {
   "cell_type": "markdown",
   "metadata": {},
   "source": [
    "## 1. Importando librerías necesarias y rutas de archivos"
   ]
  },
  {
   "cell_type": "code",
   "execution_count": 1,
   "metadata": {},
   "outputs": [],
   "source": [
    "import pandas as pd\n",
    "import joblib\n",
    "from rating_functions import rating_prediction\n",
    "from lime_explainer import explain_tree"
   ]
  },
  {
   "cell_type": "code",
   "execution_count": 2,
   "metadata": {},
   "outputs": [],
   "source": [
    "feat_key = pd.read_csv('data/features.csv', sep=',', index_col = [\"Feature\"], encoding = \"latin1\")\n",
    "le = pd.read_csv('data/lab_encoder.csv', sep=',', index_col = 0, encoding = \"latin1\")\n",
    "model_file = 'model/actual_rf_em.sav' # Modelo.\n",
    "#model_pure_file = 'model/rating_random_forest_pure.sav' # Modelo.\n",
    "train_set = 'explainer/X_train_actual.sav'\n",
    "sov_encoder_file = 'model/sov_lab_encoder_em.sav' # Encoder de rating soberano."
   ]
  },
  {
   "cell_type": "markdown",
   "metadata": {},
   "source": [
    "## 2. Cargando modelos"
   ]
  },
  {
   "cell_type": "code",
   "execution_count": 3,
   "metadata": {},
   "outputs": [],
   "source": [
    "rf = joblib.load(model_file)\n",
    "X_train = joblib.load(train_set)\n",
    "sov_lab_encoder = joblib.load(sov_encoder_file)"
   ]
  },
  {
   "cell_type": "markdown",
   "metadata": {},
   "source": [
    "## 3. Archivos de input y output"
   ]
  },
  {
   "cell_type": "code",
   "execution_count": 4,
   "metadata": {},
   "outputs": [],
   "source": [
    "data = 'rating_pred.csv'\n",
    "output_pred = 'output.csv'"
   ]
  },
  {
   "cell_type": "markdown",
   "metadata": {},
   "source": [
    "## 4. Predicción y resultado"
   ]
  },
  {
   "cell_type": "code",
   "execution_count": 5,
   "metadata": {},
   "outputs": [
    {
     "name": "stdout",
     "output_type": "stream",
     "text": [
      "Predicción Rating:\n",
      "\n",
      "   Periodo Rating Predicc Rating Local Trad\n",
      "0     2T17            BB-                 A\n",
      "1     3T17            BB-                 A\n",
      "2     4T17            BB-                 A\n",
      "3     1T18            BB-                 A\n",
      "4     2T18            BB-                 A\n",
      "5     3T18            BB-                 A\n",
      "6     4T18            BB-                 A\n",
      "7     1T19             BB                A+\n",
      "8     2T19            BBB               AA+\n",
      "9     3T19            BB-                 A\n",
      "10    4T19            BB-                 A\n",
      "11    1T20             BB                A+\n",
      "12    2T20            BB+               AA-\n",
      "13    3T20            BB+               AA-\n",
      "14    4T20             BB                A+\n",
      "15    1T21             BB                A+\n",
      "16    2T21            BB+               AA-\n",
      "17    3T21             BB                A+\n",
      "18    4T21            BB+               AA-\n",
      "19    1T22            BB+               AA-\n",
      "20    2T22            BB+               AA-\n",
      "21    3T22           BBB-                AA\n",
      "22    4T22            BB+               AA-\n",
      "23    1T23            BB+               AA-\n",
      "24    2T23            BBB               AA+\n",
      "25    3T23            BB+               AA-\n",
      "26    4T23            BB+               AA-\n",
      "27    1T24            BB+               AA-\n",
      "28    2T24            BB+               AA-\n",
      "29    3T24            BB+               AA-\n",
      "30    4T24            BB+               AA-\n",
      "31    1T25            BB+               AA-\n",
      "32    2T25            BB+               AA-\n",
      "33    3T25            BB+               AA-\n",
      "34    4T25            BB+               AA-\n",
      "35    1T26            BB+               AA-\n",
      "36    2T26            BB+               AA-\n",
      "37    3T26            BB+               AA-\n",
      "38    4T26            BB+               AA-\n",
      "39    1T27            BB+               AA-\n",
      "40    2T27            BB+               AA-\n",
      "41    3T27            BB+               AA-\n",
      "42    4T27            BB+               AA-\n",
      "43    1T28            BB+               AA-\n",
      "44    2T28            BB+               AA-\n",
      "45    3T28            BB+               AA-\n",
      "46    4T28            BB+               AA-\n"
     ]
    }
   ],
   "source": [
    "rating_prediction(data, rf, feat_key, le, sov_lab_encoder, output_pred)"
   ]
  },
  {
   "cell_type": "code",
   "execution_count": null,
   "metadata": {},
   "outputs": [],
   "source": []
  }
 ],
 "metadata": {
  "kernelspec": {
   "display_name": "Python 3",
   "language": "python",
   "name": "python3"
  },
  "language_info": {
   "codemirror_mode": {
    "name": "ipython",
    "version": 3
   },
   "file_extension": ".py",
   "mimetype": "text/x-python",
   "name": "python",
   "nbconvert_exporter": "python",
   "pygments_lexer": "ipython3",
   "version": "3.7.4"
  }
 },
 "nbformat": 4,
 "nbformat_minor": 2
}
