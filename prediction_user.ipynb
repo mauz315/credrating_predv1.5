{
 "cells": [
  {
   "cell_type": "markdown",
   "metadata": {},
   "source": [
    "# Predicción de Ratings Corporativos"
   ]
  },
  {
   "cell_type": "markdown",
   "metadata": {},
   "source": [
    "## 1. Importando librerías necesarias y rutas de archivos"
   ]
  },
  {
   "cell_type": "code",
   "execution_count": 1,
   "metadata": {},
   "outputs": [
    {
     "name": "stderr",
     "output_type": "stream",
     "text": [
      "C:\\ProgramData\\Anaconda3\\lib\\site-packages\\sklearn\\externals\\joblib\\__init__.py:15: DeprecationWarning: sklearn.externals.joblib is deprecated in 0.21 and will be removed in 0.23. Please import this functionality directly from joblib, which can be installed with: pip install joblib. If this warning is raised when loading pickled models, you may need to re-serialize those models with scikit-learn 0.21+.\n",
      "  warnings.warn(msg, category=DeprecationWarning)\n"
     ]
    }
   ],
   "source": [
    "import pandas as pd\n",
    "from sklearn.externals import joblib\n",
    "from rating_functions import rating_prediction\n",
    "from lime_explainer import explain_tree"
   ]
  },
  {
   "cell_type": "code",
   "execution_count": 2,
   "metadata": {},
   "outputs": [],
   "source": [
    "feat_key = pd.read_csv('data/features.csv', sep=',', index_col = [\"Feature\"], encoding = \"latin1\")\n",
    "le = pd.read_csv('data/lab_encoder.csv', sep=',', index_col = 0, encoding = \"latin1\")\n",
    "model_file = 'model/actual_rf_em.sav' # Modelo.\n",
    "# model_pure_file = 'model/rating_random_forest_pure.sav' # Modelo.\n",
    "train_set = 'explainer/X_train_actual.sav'\n",
    "sov_encoder_file = 'model/sov_lab_encoder_em.sav' # Encoder de rating soberano."
   ]
  },
  {
   "cell_type": "markdown",
   "metadata": {},
   "source": [
    "## 2. Cargando modelos"
   ]
  },
  {
   "cell_type": "code",
   "execution_count": 3,
   "metadata": {},
   "outputs": [],
   "source": [
    "rf = joblib.load(model_file)\n",
    "X_train = joblib.load(train_set)\n",
    "sov_lab_encoder = joblib.load(sov_encoder_file)"
   ]
  },
  {
   "cell_type": "markdown",
   "metadata": {},
   "source": [
    "## 3. Archivos de input y output"
   ]
  },
  {
   "cell_type": "code",
   "execution_count": 4,
   "metadata": {},
   "outputs": [],
   "source": [
    "data = pd.read_csv('input/rating_pred.csv', sep=',', index_col = [\"Indicadores\"], encoding = \"latin1\")\n",
    "output_pred = 'output/output.csv'"
   ]
  },
  {
   "cell_type": "markdown",
   "metadata": {},
   "source": [
    "## 4. Predicción y resultado"
   ]
  },
  {
   "cell_type": "code",
   "execution_count": 5,
   "metadata": {},
   "outputs": [
    {
     "name": "stdout",
     "output_type": "stream",
     "text": [
      "Predicción Rating:\n",
      "\n",
      "   Periodo Rating Predicc Rating Local Trad\n",
      "0     3T18             BB                A+\n",
      "1     4T18             BB                A+\n",
      "2     1T19             BB                A+\n",
      "3     2T19             BB                A+\n",
      "4     3T19             BB                A+\n",
      "5     4T19             BB                A+\n",
      "6     1T20             BB                A+\n",
      "7     2T20             BB                A+\n",
      "8     3T20             BB                A+\n",
      "9     4T20             BB                A+\n",
      "10    1T21             BB                A+\n",
      "11    2T21             BB                A+\n",
      "12    3T21             BB                A+\n",
      "13    4T21             BB                A+\n",
      "14    1T22             BB                A+\n",
      "15    2T22             BB                A+\n",
      "16    3T22             BB                A+\n",
      "17    4T22             BB                A+\n",
      "18    1T23             BB                A+\n",
      "19    2T23             BB                A+\n",
      "20    3T23             BB                A+\n",
      "21    4T23             BB                A+\n",
      "22    1T24             BB                A+\n",
      "23    2T24             BB                A+\n",
      "24    3T24             BB                A+\n",
      "25    4T24             BB                A+\n",
      "26    1T25             BB                A+\n",
      "27    2T25             BB                A+\n",
      "28    3T25             BB                A+\n",
      "29    4T25             BB                A+\n",
      "30    1T26             BB                A+\n",
      "31    2T26             BB                A+\n",
      "32    3T26             BB                A+\n",
      "33    4T26             BB                A+\n",
      "34    1T27             BB                A+\n",
      "35    2T27            BB-                 A\n",
      "36    3T27             BB                A+\n",
      "37    4T27             BB                A+\n"
     ]
    }
   ],
   "source": [
    "rating_prediction(data, rf, feat_key, le, sov_lab_encoder, output_pred)"
   ]
  }
 ],
 "metadata": {
  "kernelspec": {
   "display_name": "Python 3",
   "language": "python",
   "name": "python3"
  },
  "language_info": {
   "codemirror_mode": {
    "name": "ipython",
    "version": 3
   },
   "file_extension": ".py",
   "mimetype": "text/x-python",
   "name": "python",
   "nbconvert_exporter": "python",
   "pygments_lexer": "ipython3",
   "version": "3.7.4"
  }
 },
 "nbformat": 4,
 "nbformat_minor": 2
}
