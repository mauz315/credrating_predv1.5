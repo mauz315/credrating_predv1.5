{
 "cells": [
  {
   "cell_type": "markdown",
   "metadata": {},
   "source": [
    "# Predicción de Ratings de Bancos"
   ]
  },
  {
   "cell_type": "markdown",
   "metadata": {},
   "source": [
    "## 1. Importando librerías necesarias y rutas de archivos"
   ]
  },
  {
   "cell_type": "code",
   "execution_count": 2,
   "metadata": {},
   "outputs": [],
   "source": [
    "import pandas as pd\n",
    "import numpy as np\n",
    "import joblib\n",
    "from rating_functions import rating_prediction\n",
    "from lime_explainer import explain_tree"
   ]
  },
  {
   "cell_type": "code",
   "execution_count": 3,
   "metadata": {},
   "outputs": [],
   "source": [
    "feat_key = pd.read_csv('data/features_banks.csv', sep=',', index_col = [\"Feature\"], encoding = \"latin1\")\n",
    "le = pd.read_csv('data/lab_encoder_banks.csv', sep=',', index_col = 0, encoding = \"latin1\")\n",
    "model_file = 'model/actual_svm_em_banks.sav' # Modelo.\n",
    "#model_pure_file = 'model/rating_random_forest_pure.sav' # Modelo.\n",
    "train_set = 'explainer/X_train_actual_banks.sav'\n",
    "sov_encoder_file = 'model/sov_lab_encoder_em.sav' # Encoder de rating soberano."
   ]
  },
  {
   "cell_type": "markdown",
   "metadata": {},
   "source": [
    "## 2. Cargando modelos"
   ]
  },
  {
   "cell_type": "code",
   "execution_count": 4,
   "metadata": {},
   "outputs": [],
   "source": [
    "rf = joblib.load('model/actual_rf_em_banks.sav')\n",
    "svm = joblib.load(model_file)\n",
    "svm2 = joblib.load('model/actual_svm_em_banks_noshuffle.sav')\n",
    "X_train = joblib.load(train_set)\n",
    "sov_lab_encoder = joblib.load(sov_encoder_file)"
   ]
  },
  {
   "cell_type": "markdown",
   "metadata": {},
   "source": [
    "## 3. Archivos de input y output"
   ]
  },
  {
   "cell_type": "code",
   "execution_count": 5,
   "metadata": {},
   "outputs": [],
   "source": [
    "data = 'Aval_1T19.csv'\n",
    "output_pred = 'output.csv'"
   ]
  },
  {
   "cell_type": "markdown",
   "metadata": {},
   "source": [
    "## 4. Predicción y resultado"
   ]
  },
  {
   "cell_type": "code",
   "execution_count": 6,
   "metadata": {},
   "outputs": [
    {
     "name": "stdout",
     "output_type": "stream",
     "text": [
      "[['1T16' 'BBB']\n",
      " ['2T16' 'BBB']\n",
      " ['3T16' 'BBB']\n",
      " ['4T16' 'BBB']\n",
      " ['1T17' 'BBB']\n",
      " ['2T17' 'BBB']\n",
      " ['3T17' 'BBB']\n",
      " ['4T17' 'BBB-']\n",
      " ['1T18' 'BBB-']\n",
      " ['2T18' 'BBB-']\n",
      " ['3T18' 'BBB-']\n",
      " ['4T18' 'BBB-']\n",
      " ['1T19' 'BBB-']\n",
      " ['2T19' 'BBB-']\n",
      " ['3T19' 'BBB-']\n",
      " ['4T19' 'BBB-']\n",
      " ['1T20' 'BBB-']\n",
      " ['2T20' 'BBB-']\n",
      " ['3T20' 'BBB-']\n",
      " ['4T20' 'BBB-']\n",
      " ['1T21' 'BBB-']\n",
      " ['2T21' 'BBB-']\n",
      " ['3T21' 'BBB-']\n",
      " ['4T21' 'BBB-']\n",
      " ['1T22' 'BBB-']\n",
      " ['2T22' 'BBB-']\n",
      " ['3T22' 'BBB-']\n",
      " ['4T22' 'BBB-']\n",
      " ['1T23' 'BBB-']\n",
      " ['2T23' 'BBB-']\n",
      " ['3T23' 'BBB-']\n",
      " ['4T23' 'BBB-']\n",
      " ['1T24' 'BBB-']\n",
      " ['2T24' 'BBB-']\n",
      " ['3T24' 'BBB-']\n",
      " ['4T24' 'BBB-']\n",
      " ['1T25' 'BBB-']\n",
      " ['2T25' 'BBB-']\n",
      " ['3T25' 'BBB-']\n",
      " ['4T25' 'BBB-']\n",
      " ['1T26' 'BBB-']\n",
      " ['2T26' 'BBB-']\n",
      " ['3T26' 'BBB-']\n",
      " ['4T26' 'BBB-']\n",
      " ['1T27' 'BBB-']\n",
      " ['2T27' 'BBB-']\n",
      " ['3T27' 'BBB-']\n",
      " ['4T27' 'BBB-']\n",
      " ['1T28' 'BBB-']\n",
      " ['2T28' 'BBB-']\n",
      " ['3T28' 'BBB-']\n",
      " ['4T28' 'BBB-']\n",
      " ['1T29' 'BBB-']\n",
      " ['2T29' 'BBB-']\n",
      " ['3T29' 'BBB-']\n",
      " ['4T29' 'BBB-']\n",
      " ['1T30' 'BBB-']\n",
      " ['2T30' 'BBB-']\n",
      " ['3T30' 'BBB-']\n",
      " ['4T30' 'BBB-']]\n"
     ]
    }
   ],
   "source": [
    "sob = pd.read_csv('input/' + data, sep=',', index_col = 0, encoding = \"latin1\")\n",
    "print(np.column_stack((sob.columns,sob.tail(1).iloc[0])))"
   ]
  },
  {
   "cell_type": "code",
   "execution_count": 7,
   "metadata": {
    "scrolled": false
   },
   "outputs": [
    {
     "name": "stdout",
     "output_type": "stream",
     "text": [
      "SVM, kernel = poly\n",
      "Predicción Rating:\n",
      "\n",
      "   Periodo Rating Predicc Rating Local Trad\n",
      "0     1T16            BB+                AA\n",
      "1     2T16            BB+                AA\n",
      "2     3T16            BB+                AA\n",
      "3     4T16            BB+                AA\n",
      "4     1T17            BB+                AA\n",
      "5     2T17            BB+                AA\n",
      "6     3T17            BB+                AA\n",
      "7     4T17            BB+               AA+\n",
      "8     1T18            BB+               AA+\n",
      "9     2T18            BB+               AA+\n",
      "10    3T18            BB+               AA+\n",
      "11    4T18            BB+               AA+\n",
      "12    1T19            BB+               AA+\n",
      "13    2T19            BB+               AA+\n",
      "14    3T19            BB+               AA+\n",
      "15    4T19            BB+               AA+\n",
      "16    1T20            BB+               AA+\n",
      "17    2T20            BB+               AA+\n",
      "18    3T20            BB+               AA+\n",
      "19    4T20            BB+               AA+\n",
      "20    1T21            BB+               AA+\n",
      "21    2T21            BB+               AA+\n",
      "22    3T21            BB+               AA+\n",
      "23    4T21            BB+               AA+\n",
      "24    1T22            BB+               AA+\n",
      "25    2T22            BB+               AA+\n",
      "26    3T22            BB+               AA+\n",
      "27    4T22            BB+               AA+\n",
      "28    1T23            BB+               AA+\n",
      "29    2T23            BB+               AA+\n",
      "30    3T23            BB+               AA+\n",
      "31    4T23            BB+               AA+\n",
      "32    1T24            BB+               AA+\n",
      "33    2T24            BB+               AA+\n",
      "34    3T24            BB+               AA+\n",
      "35    4T24            BB+               AA+\n",
      "36    1T25            BB+               AA+\n",
      "37    2T25            BB+               AA+\n",
      "38    3T25            BB+               AA+\n",
      "39    4T25            BB+               AA+\n",
      "40    1T26            BB+               AA+\n",
      "41    2T26            BB+               AA+\n",
      "42    3T26            BB+               AA+\n",
      "43    4T26            BB+               AA+\n",
      "44    1T27            BB+               AA+\n",
      "45    2T27            BB+               AA+\n",
      "46    3T27            BB+               AA+\n",
      "47    4T27            BB+               AA+\n",
      "48    1T28            BB+               AA+\n",
      "49    2T28            BB+               AA+\n",
      "50    3T28            BB+               AA+\n",
      "51    4T28            BB+               AA+\n",
      "52    1T29            BB+               AA+\n",
      "53    2T29            BB+               AA+\n",
      "54    3T29            BB+               AA+\n",
      "55    4T29            BB+               AA+\n",
      "56    1T30            BB+               AA+\n",
      "57    2T30            BB+               AA+\n",
      "58    3T30            BB+               AA+\n",
      "59    4T30            BB+               AA+\n",
      "\n",
      "Random Forest\n",
      "Predicción Rating:\n",
      "\n",
      "   Periodo Rating Predicc Rating Local Trad\n",
      "0     1T16           BBB-               AA+\n",
      "1     2T16           BBB-               AA+\n",
      "2     3T16           BBB-               AA+\n",
      "3     4T16           BBB-               AA+\n",
      "4     1T17           BBB-               AA+\n",
      "5     2T17           BBB-               AA+\n",
      "6     3T17           BBB-               AA+\n",
      "7     4T17           BBB-               AAA\n",
      "8     1T18           BBB-               AAA\n",
      "9     2T18           BBB-               AAA\n",
      "10    3T18           BBB-               AAA\n",
      "11    4T18           BBB-               AAA\n",
      "12    1T19           BBB-               AAA\n",
      "13    2T19           BBB-               AAA\n",
      "14    3T19           BBB-               AAA\n",
      "15    4T19           BBB-               AAA\n",
      "16    1T20           BBB-               AAA\n",
      "17    2T20           BBB-               AAA\n",
      "18    3T20           BBB-               AAA\n",
      "19    4T20           BBB-               AAA\n",
      "20    1T21           BBB-               AAA\n",
      "21    2T21           BBB-               AAA\n",
      "22    3T21           BBB-               AAA\n",
      "23    4T21           BBB-               AAA\n",
      "24    1T22           BBB-               AAA\n",
      "25    2T22           BBB-               AAA\n",
      "26    3T22           BBB-               AAA\n",
      "27    4T22           BBB-               AAA\n",
      "28    1T23           BBB-               AAA\n",
      "29    2T23           BBB-               AAA\n",
      "30    3T23           BBB-               AAA\n",
      "31    4T23           BBB-               AAA\n",
      "32    1T24           BBB-               AAA\n",
      "33    2T24           BBB-               AAA\n",
      "34    3T24           BBB-               AAA\n",
      "35    4T24           BBB-               AAA\n",
      "36    1T25           BBB-               AAA\n",
      "37    2T25           BBB-               AAA\n",
      "38    3T25           BBB-               AAA\n",
      "39    4T25           BBB-               AAA\n",
      "40    1T26           BBB-               AAA\n",
      "41    2T26           BBB-               AAA\n",
      "42    3T26           BBB-               AAA\n",
      "43    4T26           BBB-               AAA\n",
      "44    1T27           BBB-               AAA\n",
      "45    2T27           BBB-               AAA\n",
      "46    3T27           BBB-               AAA\n",
      "47    4T27           BBB-               AAA\n",
      "48    1T28           BBB-               AAA\n",
      "49    2T28           BBB-               AAA\n",
      "50    3T28           BBB-               AAA\n",
      "51    4T28           BBB-               AAA\n",
      "52    1T29           BBB-               AAA\n",
      "53    2T29           BBB-               AAA\n",
      "54    3T29           BBB-               AAA\n",
      "55    4T29           BBB-               AAA\n",
      "56    1T30           BBB-               AAA\n",
      "57    2T30           BBB-               AAA\n",
      "58    3T30           BBB-               AAA\n",
      "59    4T30           BBB-               AAA\n"
     ]
    }
   ],
   "source": [
    "print('SVM, kernel = poly')\n",
    "rating_prediction(data, svm, feat_key, le, sov_lab_encoder, output_pred)\n",
    "print()\n",
    "#print('SVM No shuffle, kernel = poly')\n",
    "#rating_prediction(data, svm2, feat_key, le, sov_lab_encoder, output_pred)\n",
    "#print()\n",
    "print('Random Forest')\n",
    "rating_prediction(data, rf, feat_key, le, sov_lab_encoder, output_pred)"
   ]
  },
  {
   "cell_type": "code",
   "execution_count": null,
   "metadata": {},
   "outputs": [],
   "source": []
  }
 ],
 "metadata": {
  "kernelspec": {
   "display_name": "Python 3",
   "language": "python",
   "name": "python3"
  },
  "language_info": {
   "codemirror_mode": {
    "name": "ipython",
    "version": 3
   },
   "file_extension": ".py",
   "mimetype": "text/x-python",
   "name": "python",
   "nbconvert_exporter": "python",
   "pygments_lexer": "ipython3",
   "version": "3.7.4"
  }
 },
 "nbformat": 4,
 "nbformat_minor": 2
}
