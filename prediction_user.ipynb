{
 "cells": [
  {
   "cell_type": "markdown",
   "metadata": {},
   "source": [
    "# Predicción de Ratings de Bancos"
   ]
  },
  {
   "cell_type": "markdown",
   "metadata": {},
   "source": [
    "## 1. Importando librerías necesarias y rutas de archivos"
   ]
  },
  {
   "cell_type": "code",
   "execution_count": 1,
   "metadata": {},
   "outputs": [],
   "source": [
    "import pandas as pd\n",
    "import joblib\n",
    "from rating_functions import rating_prediction\n",
    "from lime_explainer import explain_tree"
   ]
  },
  {
   "cell_type": "code",
   "execution_count": 3,
   "metadata": {},
   "outputs": [],
   "source": [
    "feat_key = pd.read_csv('data/features_banks.csv', sep=',', index_col = [\"Feature\"], encoding = \"latin1\")\n",
    "le = pd.read_csv('data/lab_encoder_banks.csv', sep=',', index_col = 0, encoding = \"latin1\")\n",
    "model_file = 'model/actual_rf_em_banks.sav' # Modelo.\n",
    "#model_pure_file = 'model/rating_random_forest_pure.sav' # Modelo.\n",
    "train_set = 'explainer/X_train_actual_banks.sav'\n",
    "sov_encoder_file = 'model/sov_lab_encoder_em.sav' # Encoder de rating soberano."
   ]
  },
  {
   "cell_type": "markdown",
   "metadata": {},
   "source": [
    "## 2. Cargando modelos"
   ]
  },
  {
   "cell_type": "code",
   "execution_count": 4,
   "metadata": {},
   "outputs": [],
   "source": [
    "rf = joblib.load(model_file)\n",
    "X_train = joblib.load(train_set)\n",
    "sov_lab_encoder = joblib.load(sov_encoder_file)"
   ]
  },
  {
   "cell_type": "markdown",
   "metadata": {},
   "source": [
    "## 3. Archivos de input y output"
   ]
  },
  {
   "cell_type": "code",
   "execution_count": 5,
   "metadata": {},
   "outputs": [],
   "source": [
    "data = 'rating_bank_pred.csv'\n",
    "output_pred = 'output.csv'"
   ]
  },
  {
   "cell_type": "markdown",
   "metadata": {},
   "source": [
    "## 4. Predicción y resultado"
   ]
  },
  {
   "cell_type": "code",
   "execution_count": 6,
   "metadata": {},
   "outputs": [
    {
     "name": "stdout",
     "output_type": "stream",
     "text": [
      "Predicción Rating:\n",
      "\n",
      "   Periodo Rating Predicc Rating Local Trad\n",
      "0     3Q17           BBB-               AAA\n",
      "1     4Q17           BBB-               AAA\n",
      "2     1Q18            BB+               AA+\n",
      "3     2Q18            BB+               AA+\n",
      "4     3Q18            BB+               AA+\n",
      "5     4Q18            BB+               AA+\n",
      "6     1Q19            BB+               AA+\n",
      "7     2Q19            BB+               AA+\n",
      "8     3Q19            BB+               AA+\n",
      "9     4Q19            BB+               AA+\n",
      "10    1Q20            BB+               AA+\n",
      "11    2Q20            BB+               AA+\n",
      "12    3Q20            BB+               AA+\n",
      "13    4Q20            BB+               AA+\n",
      "14    1Q21            BB+               AA+\n",
      "15    2Q21            BB+               AA+\n",
      "16    3Q21            BB+               AA+\n",
      "17    4Q21            BB+               AA+\n",
      "18    1Q22            BB+               AA+\n",
      "19    2Q22            BB+               AA+\n",
      "20    3Q22            BB+               AA+\n",
      "21    4Q22            BB+               AA+\n"
     ]
    }
   ],
   "source": [
    "rating_prediction(data, rf, feat_key, le, sov_lab_encoder, output_pred)"
   ]
  },
  {
   "cell_type": "code",
   "execution_count": null,
   "metadata": {},
   "outputs": [],
   "source": []
  }
 ],
 "metadata": {
  "kernelspec": {
   "display_name": "Python 3",
   "language": "python",
   "name": "python3"
  },
  "language_info": {
   "codemirror_mode": {
    "name": "ipython",
    "version": 3
   },
   "file_extension": ".py",
   "mimetype": "text/x-python",
   "name": "python",
   "nbconvert_exporter": "python",
   "pygments_lexer": "ipython3",
   "version": "3.7.4"
  }
 },
 "nbformat": 4,
 "nbformat_minor": 2
}
